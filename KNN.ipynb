{
 "cells": [
  {
   "cell_type": "code",
   "execution_count": 3,
   "id": "c0cc754a",
   "metadata": {},
   "outputs": [
    {
     "name": "stderr",
     "output_type": "stream",
     "text": [
      "C:\\Users\\91867\\anaconda3\\lib\\site-packages\\scipy\\__init__.py:138: UserWarning: A NumPy version >=1.16.5 and <1.23.0 is required for this version of SciPy (detected version 1.24.3)\n",
      "  warnings.warn(f\"A NumPy version >={np_minversion} and <{np_maxversion} is required for this version of \"\n"
     ]
    }
   ],
   "source": [
    "import pandas as pd\n",
    "import numpy as np\n",
    "import matplotlib.pyplot as plt\n",
    "\n",
    "import numpy as np\n",
    "import pandas as pd\n",
    "import yfinance as yf\n",
    "from keras.models import load_model\n",
    "import streamlit as st\n",
    "import matplotlib.pyplot as plt"
   ]
  },
  {
   "cell_type": "code",
   "execution_count": 121,
   "id": "38509c57",
   "metadata": {},
   "outputs": [
    {
     "name": "stdout",
     "output_type": "stream",
     "text": [
      "[*********************100%%**********************]  1 of 1 completed\n"
     ]
    }
   ],
   "source": [
    "start = '2023-01-30'\n",
    "end = '2024-01-30'\n",
    "stock = 'TCS.NS'\n",
    "\n",
    "data = yf.download(stock, start, end)"
   ]
  },
  {
   "cell_type": "code",
   "execution_count": 122,
   "id": "4e8de427",
   "metadata": {},
   "outputs": [
    {
     "data": {
      "text/html": [
       "<div>\n",
       "<style scoped>\n",
       "    .dataframe tbody tr th:only-of-type {\n",
       "        vertical-align: middle;\n",
       "    }\n",
       "\n",
       "    .dataframe tbody tr th {\n",
       "        vertical-align: top;\n",
       "    }\n",
       "\n",
       "    .dataframe thead th {\n",
       "        text-align: right;\n",
       "    }\n",
       "</style>\n",
       "<table border=\"1\" class=\"dataframe\">\n",
       "  <thead>\n",
       "    <tr style=\"text-align: right;\">\n",
       "      <th></th>\n",
       "      <th>Open</th>\n",
       "      <th>High</th>\n",
       "      <th>Low</th>\n",
       "      <th>Close</th>\n",
       "      <th>Adj Close</th>\n",
       "      <th>Volume</th>\n",
       "    </tr>\n",
       "    <tr>\n",
       "      <th>Date</th>\n",
       "      <th></th>\n",
       "      <th></th>\n",
       "      <th></th>\n",
       "      <th></th>\n",
       "      <th></th>\n",
       "      <th></th>\n",
       "    </tr>\n",
       "  </thead>\n",
       "  <tbody>\n",
       "    <tr>\n",
       "      <th>2023-01-30</th>\n",
       "      <td>3420.000000</td>\n",
       "      <td>3458.449951</td>\n",
       "      <td>3385.550049</td>\n",
       "      <td>3433.649902</td>\n",
       "      <td>3375.049561</td>\n",
       "      <td>1953798</td>\n",
       "    </tr>\n",
       "    <tr>\n",
       "      <th>2023-01-31</th>\n",
       "      <td>3449.000000</td>\n",
       "      <td>3449.000000</td>\n",
       "      <td>3351.000000</td>\n",
       "      <td>3358.699951</td>\n",
       "      <td>3301.379150</td>\n",
       "      <td>2820375</td>\n",
       "    </tr>\n",
       "    <tr>\n",
       "      <th>2023-02-01</th>\n",
       "      <td>3363.000000</td>\n",
       "      <td>3419.000000</td>\n",
       "      <td>3355.000000</td>\n",
       "      <td>3408.350098</td>\n",
       "      <td>3350.181396</td>\n",
       "      <td>2205161</td>\n",
       "    </tr>\n",
       "    <tr>\n",
       "      <th>2023-02-02</th>\n",
       "      <td>3427.000000</td>\n",
       "      <td>3469.000000</td>\n",
       "      <td>3420.100098</td>\n",
       "      <td>3460.399902</td>\n",
       "      <td>3401.343018</td>\n",
       "      <td>1813847</td>\n",
       "    </tr>\n",
       "    <tr>\n",
       "      <th>2023-02-03</th>\n",
       "      <td>3504.000000</td>\n",
       "      <td>3504.000000</td>\n",
       "      <td>3452.899902</td>\n",
       "      <td>3482.300049</td>\n",
       "      <td>3422.869629</td>\n",
       "      <td>1804469</td>\n",
       "    </tr>\n",
       "    <tr>\n",
       "      <th>2023-02-06</th>\n",
       "      <td>3473.149902</td>\n",
       "      <td>3473.149902</td>\n",
       "      <td>3436.850098</td>\n",
       "      <td>3459.949951</td>\n",
       "      <td>3400.900879</td>\n",
       "      <td>1138714</td>\n",
       "    </tr>\n",
       "    <tr>\n",
       "      <th>2023-02-07</th>\n",
       "      <td>3468.899902</td>\n",
       "      <td>3493.000000</td>\n",
       "      <td>3461.399902</td>\n",
       "      <td>3472.550049</td>\n",
       "      <td>3413.285889</td>\n",
       "      <td>1455647</td>\n",
       "    </tr>\n",
       "    <tr>\n",
       "      <th>2023-02-08</th>\n",
       "      <td>3478.050049</td>\n",
       "      <td>3539.899902</td>\n",
       "      <td>3478.050049</td>\n",
       "      <td>3520.100098</td>\n",
       "      <td>3460.024414</td>\n",
       "      <td>1986946</td>\n",
       "    </tr>\n",
       "    <tr>\n",
       "      <th>2023-02-09</th>\n",
       "      <td>3515.000000</td>\n",
       "      <td>3547.600098</td>\n",
       "      <td>3505.300049</td>\n",
       "      <td>3540.850098</td>\n",
       "      <td>3480.420410</td>\n",
       "      <td>1655427</td>\n",
       "    </tr>\n",
       "    <tr>\n",
       "      <th>2023-02-10</th>\n",
       "      <td>3520.000000</td>\n",
       "      <td>3542.350098</td>\n",
       "      <td>3508.149902</td>\n",
       "      <td>3537.550049</td>\n",
       "      <td>3477.176758</td>\n",
       "      <td>1187821</td>\n",
       "    </tr>\n",
       "  </tbody>\n",
       "</table>\n",
       "</div>"
      ],
      "text/plain": [
       "                   Open         High          Low        Close    Adj Close  \\\n",
       "Date                                                                          \n",
       "2023-01-30  3420.000000  3458.449951  3385.550049  3433.649902  3375.049561   \n",
       "2023-01-31  3449.000000  3449.000000  3351.000000  3358.699951  3301.379150   \n",
       "2023-02-01  3363.000000  3419.000000  3355.000000  3408.350098  3350.181396   \n",
       "2023-02-02  3427.000000  3469.000000  3420.100098  3460.399902  3401.343018   \n",
       "2023-02-03  3504.000000  3504.000000  3452.899902  3482.300049  3422.869629   \n",
       "2023-02-06  3473.149902  3473.149902  3436.850098  3459.949951  3400.900879   \n",
       "2023-02-07  3468.899902  3493.000000  3461.399902  3472.550049  3413.285889   \n",
       "2023-02-08  3478.050049  3539.899902  3478.050049  3520.100098  3460.024414   \n",
       "2023-02-09  3515.000000  3547.600098  3505.300049  3540.850098  3480.420410   \n",
       "2023-02-10  3520.000000  3542.350098  3508.149902  3537.550049  3477.176758   \n",
       "\n",
       "             Volume  \n",
       "Date                 \n",
       "2023-01-30  1953798  \n",
       "2023-01-31  2820375  \n",
       "2023-02-01  2205161  \n",
       "2023-02-02  1813847  \n",
       "2023-02-03  1804469  \n",
       "2023-02-06  1138714  \n",
       "2023-02-07  1455647  \n",
       "2023-02-08  1986946  \n",
       "2023-02-09  1655427  \n",
       "2023-02-10  1187821  "
      ]
     },
     "execution_count": 122,
     "metadata": {},
     "output_type": "execute_result"
    }
   ],
   "source": [
    "data.head(10)"
   ]
  },
  {
   "cell_type": "code",
   "execution_count": 123,
   "id": "52395caa",
   "metadata": {},
   "outputs": [
    {
     "data": {
      "text/html": [
       "<div>\n",
       "<style scoped>\n",
       "    .dataframe tbody tr th:only-of-type {\n",
       "        vertical-align: middle;\n",
       "    }\n",
       "\n",
       "    .dataframe tbody tr th {\n",
       "        vertical-align: top;\n",
       "    }\n",
       "\n",
       "    .dataframe thead th {\n",
       "        text-align: right;\n",
       "    }\n",
       "</style>\n",
       "<table border=\"1\" class=\"dataframe\">\n",
       "  <thead>\n",
       "    <tr style=\"text-align: right;\">\n",
       "      <th></th>\n",
       "      <th>Open</th>\n",
       "      <th>High</th>\n",
       "      <th>Low</th>\n",
       "      <th>Close</th>\n",
       "      <th>Adj Close</th>\n",
       "      <th>Volume</th>\n",
       "    </tr>\n",
       "    <tr>\n",
       "      <th>Date</th>\n",
       "      <th></th>\n",
       "      <th></th>\n",
       "      <th></th>\n",
       "      <th></th>\n",
       "      <th></th>\n",
       "      <th></th>\n",
       "    </tr>\n",
       "  </thead>\n",
       "  <tbody>\n",
       "    <tr>\n",
       "      <th>2024-01-15</th>\n",
       "      <td>3960.000000</td>\n",
       "      <td>3965.000000</td>\n",
       "      <td>3885.000000</td>\n",
       "      <td>3903.800049</td>\n",
       "      <td>3885.794434</td>\n",
       "      <td>2801505</td>\n",
       "    </tr>\n",
       "    <tr>\n",
       "      <th>2024-01-16</th>\n",
       "      <td>3899.000000</td>\n",
       "      <td>3899.000000</td>\n",
       "      <td>3855.550049</td>\n",
       "      <td>3861.300049</td>\n",
       "      <td>3843.490479</td>\n",
       "      <td>1432672</td>\n",
       "    </tr>\n",
       "    <tr>\n",
       "      <th>2024-01-17</th>\n",
       "      <td>3819.000000</td>\n",
       "      <td>3909.949951</td>\n",
       "      <td>3812.550049</td>\n",
       "      <td>3884.600098</td>\n",
       "      <td>3866.683105</td>\n",
       "      <td>3458696</td>\n",
       "    </tr>\n",
       "    <tr>\n",
       "      <th>2024-01-18</th>\n",
       "      <td>3898.000000</td>\n",
       "      <td>3908.800049</td>\n",
       "      <td>3862.000000</td>\n",
       "      <td>3902.600098</td>\n",
       "      <td>3884.600098</td>\n",
       "      <td>2239110</td>\n",
       "    </tr>\n",
       "    <tr>\n",
       "      <th>2024-01-19</th>\n",
       "      <td>3945.000000</td>\n",
       "      <td>3963.550049</td>\n",
       "      <td>3915.050049</td>\n",
       "      <td>3943.050049</td>\n",
       "      <td>3943.050049</td>\n",
       "      <td>2941975</td>\n",
       "    </tr>\n",
       "    <tr>\n",
       "      <th>2024-01-22</th>\n",
       "      <td>3943.050049</td>\n",
       "      <td>3943.050049</td>\n",
       "      <td>3943.050049</td>\n",
       "      <td>3943.050049</td>\n",
       "      <td>3943.050049</td>\n",
       "      <td>0</td>\n",
       "    </tr>\n",
       "    <tr>\n",
       "      <th>2024-01-23</th>\n",
       "      <td>3900.000000</td>\n",
       "      <td>3933.899902</td>\n",
       "      <td>3842.750000</td>\n",
       "      <td>3858.250000</td>\n",
       "      <td>3858.250000</td>\n",
       "      <td>2618854</td>\n",
       "    </tr>\n",
       "    <tr>\n",
       "      <th>2024-01-24</th>\n",
       "      <td>3880.000000</td>\n",
       "      <td>3883.649902</td>\n",
       "      <td>3805.600098</td>\n",
       "      <td>3841.800049</td>\n",
       "      <td>3841.800049</td>\n",
       "      <td>2657709</td>\n",
       "    </tr>\n",
       "    <tr>\n",
       "      <th>2024-01-25</th>\n",
       "      <td>3839.899902</td>\n",
       "      <td>3861.000000</td>\n",
       "      <td>3778.699951</td>\n",
       "      <td>3810.300049</td>\n",
       "      <td>3810.300049</td>\n",
       "      <td>2205154</td>\n",
       "    </tr>\n",
       "    <tr>\n",
       "      <th>2024-01-29</th>\n",
       "      <td>3800.800049</td>\n",
       "      <td>3820.000000</td>\n",
       "      <td>3780.850098</td>\n",
       "      <td>3801.000000</td>\n",
       "      <td>3801.000000</td>\n",
       "      <td>1646747</td>\n",
       "    </tr>\n",
       "  </tbody>\n",
       "</table>\n",
       "</div>"
      ],
      "text/plain": [
       "                   Open         High          Low        Close    Adj Close  \\\n",
       "Date                                                                          \n",
       "2024-01-15  3960.000000  3965.000000  3885.000000  3903.800049  3885.794434   \n",
       "2024-01-16  3899.000000  3899.000000  3855.550049  3861.300049  3843.490479   \n",
       "2024-01-17  3819.000000  3909.949951  3812.550049  3884.600098  3866.683105   \n",
       "2024-01-18  3898.000000  3908.800049  3862.000000  3902.600098  3884.600098   \n",
       "2024-01-19  3945.000000  3963.550049  3915.050049  3943.050049  3943.050049   \n",
       "2024-01-22  3943.050049  3943.050049  3943.050049  3943.050049  3943.050049   \n",
       "2024-01-23  3900.000000  3933.899902  3842.750000  3858.250000  3858.250000   \n",
       "2024-01-24  3880.000000  3883.649902  3805.600098  3841.800049  3841.800049   \n",
       "2024-01-25  3839.899902  3861.000000  3778.699951  3810.300049  3810.300049   \n",
       "2024-01-29  3800.800049  3820.000000  3780.850098  3801.000000  3801.000000   \n",
       "\n",
       "             Volume  \n",
       "Date                 \n",
       "2024-01-15  2801505  \n",
       "2024-01-16  1432672  \n",
       "2024-01-17  3458696  \n",
       "2024-01-18  2239110  \n",
       "2024-01-19  2941975  \n",
       "2024-01-22        0  \n",
       "2024-01-23  2618854  \n",
       "2024-01-24  2657709  \n",
       "2024-01-25  2205154  \n",
       "2024-01-29  1646747  "
      ]
     },
     "execution_count": 123,
     "metadata": {},
     "output_type": "execute_result"
    }
   ],
   "source": [
    "data.tail(10)"
   ]
  },
  {
   "cell_type": "code",
   "execution_count": 124,
   "id": "063ffbf1",
   "metadata": {},
   "outputs": [
    {
     "data": {
      "text/plain": [
       "[<matplotlib.lines.Line2D at 0x2ab54402970>]"
      ]
     },
     "execution_count": 124,
     "metadata": {},
     "output_type": "execute_result"
    },
    {
     "data": {
      "image/png": "[encoded data removed]",
      "text/plain": [
       "<Figure size 720x576 with 1 Axes>"
      ]
     },
     "metadata": {
      "needs_background": "light"
     },
     "output_type": "display_data"
    }
   ],
   "source": [
    "plt.figure(figsize=(10,8))\n",
    "plt.plot(data['Close'], label='Closing Price')"
   ]
  },
  {
   "cell_type": "code",
   "execution_count": 125,
   "id": "6ff48c69",
   "metadata": {},
   "outputs": [
    {
     "data": {
      "text/html": [
       "<div>\n",
       "<style scoped>\n",
       "    .dataframe tbody tr th:only-of-type {\n",
       "        vertical-align: middle;\n",
       "    }\n",
       "\n",
       "    .dataframe tbody tr th {\n",
       "        vertical-align: top;\n",
       "    }\n",
       "\n",
       "    .dataframe thead th {\n",
       "        text-align: right;\n",
       "    }\n",
       "</style>\n",
       "<table border=\"1\" class=\"dataframe\">\n",
       "  <thead>\n",
       "    <tr style=\"text-align: right;\">\n",
       "      <th></th>\n",
       "      <th>Open - Close</th>\n",
       "      <th>High - Low</th>\n",
       "    </tr>\n",
       "    <tr>\n",
       "      <th>Date</th>\n",
       "      <th></th>\n",
       "      <th></th>\n",
       "    </tr>\n",
       "  </thead>\n",
       "  <tbody>\n",
       "    <tr>\n",
       "      <th>2023-01-30</th>\n",
       "      <td>-13.649902</td>\n",
       "      <td>72.899902</td>\n",
       "    </tr>\n",
       "    <tr>\n",
       "      <th>2023-01-31</th>\n",
       "      <td>90.300049</td>\n",
       "      <td>98.000000</td>\n",
       "    </tr>\n",
       "    <tr>\n",
       "      <th>2023-02-01</th>\n",
       "      <td>-45.350098</td>\n",
       "      <td>64.000000</td>\n",
       "    </tr>\n",
       "    <tr>\n",
       "      <th>2023-02-02</th>\n",
       "      <td>-33.399902</td>\n",
       "      <td>48.899902</td>\n",
       "    </tr>\n",
       "    <tr>\n",
       "      <th>2023-02-03</th>\n",
       "      <td>21.699951</td>\n",
       "      <td>51.100098</td>\n",
       "    </tr>\n",
       "  </tbody>\n",
       "</table>\n",
       "</div>"
      ],
      "text/plain": [
       "            Open - Close  High - Low\n",
       "Date                                \n",
       "2023-01-30    -13.649902   72.899902\n",
       "2023-01-31     90.300049   98.000000\n",
       "2023-02-01    -45.350098   64.000000\n",
       "2023-02-02    -33.399902   48.899902\n",
       "2023-02-03     21.699951   51.100098"
      ]
     },
     "execution_count": 125,
     "metadata": {},
     "output_type": "execute_result"
    }
   ],
   "source": [
    "data['Open - Close'] = data['Open'] - data['Close']\n",
    "data['High - Low'] = data['High'] - data['Low']\n",
    "data = data.dropna()\n",
    "X = data[['Open - Close', 'High - Low']]\n",
    "X.head()"
   ]
  },
  {
   "cell_type": "code",
   "execution_count": 126,
   "id": "05f276b2",
   "metadata": {},
   "outputs": [],
   "source": [
    "Y = np.where(data['Close'].shift(-1)>data['Close'],1,-1)"
   ]
  },
  {
   "cell_type": "code",
   "execution_count": 127,
   "id": "03ccd31a",
   "metadata": {},
   "outputs": [
    {
     "data": {
      "text/plain": [
       "array([-1,  1,  1,  1, -1,  1,  1,  1, -1, -1,  1,  1,  1, -1, -1, -1, -1,\n",
       "        1, -1, -1, -1,  1, -1,  1,  1,  1, -1, -1, -1, -1, -1, -1, -1, -1,\n",
       "       -1,  1, -1, -1,  1, -1,  1,  1, -1,  1, -1,  1, -1,  1, -1, -1, -1,\n",
       "       -1,  1,  1,  1,  1,  1, -1,  1,  1, -1,  1,  1,  1,  1,  1, -1, -1,\n",
       "       -1,  1, -1, -1,  1,  1, -1,  1, -1,  1, -1, -1, -1,  1, -1, -1, -1,\n",
       "        1, -1, -1,  1, -1,  1, -1, -1,  1,  1,  1, -1, -1, -1,  1, -1,  1,\n",
       "       -1,  1,  1,  1,  1, -1,  1, -1,  1,  1, -1,  1, -1, -1, -1,  1,  1,\n",
       "       -1,  1, -1,  1,  1, -1, -1,  1,  1, -1, -1, -1,  1,  1,  1, -1, -1,\n",
       "        1, -1,  1, -1, -1, -1,  1,  1, -1,  1,  1,  1,  1,  1, -1,  1,  1,\n",
       "       -1, -1,  1,  1, -1, -1,  1, -1,  1,  1, -1, -1, -1,  1,  1,  1,  1,\n",
       "       -1, -1, -1,  1, -1, -1, -1, -1,  1, -1, -1, -1,  1,  1, -1, -1,  1,\n",
       "       -1,  1, -1,  1, -1, -1, -1,  1,  1,  1,  1, -1,  1, -1, -1,  1,  1,\n",
       "       -1,  1,  1,  1,  1,  1,  1,  1,  1, -1,  1,  1, -1, -1, -1,  1,  1,\n",
       "       -1,  1, -1, -1,  1, -1, -1, -1,  1, -1,  1,  1,  1,  1,  1, -1,  1,\n",
       "        1,  1, -1, -1, -1, -1, -1, -1])"
      ]
     },
     "execution_count": 127,
     "metadata": {},
     "output_type": "execute_result"
    }
   ],
   "source": [
    "Y"
   ]
  },
  {
   "cell_type": "code",
   "execution_count": 128,
   "id": "d2ee7a13",
   "metadata": {},
   "outputs": [],
   "source": [
    "from sklearn.model_selection import train_test_split\n",
    "x_train, x_test, y_train, y_test = train_test_split(X,Y,test_size=0.25, random_state = 44)"
   ]
  },
  {
   "cell_type": "code",
   "execution_count": 129,
   "id": "debce6e0",
   "metadata": {},
   "outputs": [],
   "source": [
    "from sklearn.neighbors import KNeighborsClassifier\n",
    "from sklearn import neighbors\n",
    "from sklearn.model_selection import GridSearchCV\n",
    "from sklearn.metrics import accuracy_score"
   ]
  },
  {
   "cell_type": "code",
   "execution_count": 130,
   "id": "6e5bb9e1",
   "metadata": {},
   "outputs": [],
   "source": [
    "params = {'n_neighbors':[2,3,4,5,6,7,8,9,10,11,12,13,14,15]}\n",
    "knn= neighbors.KNeighborsClassifier()\n",
    "model=GridSearchCV(knn,params, cv=5)\n",
    "\n",
    "model.fit(x_train, y_train)\n",
    "\n",
    "accuracy_train = accuracy_score(y_train, model.predict(x_train))\n",
    "accuracy_test = accuracy_score(y_test, model.predict(x_test))"
   ]
  },
  {
   "cell_type": "code",
   "execution_count": 131,
   "id": "10572f4d",
   "metadata": {},
   "outputs": [
    {
     "name": "stdout",
     "output_type": "stream",
     "text": [
      "Train_data Accuracy: 0.71\n",
      "Test_data Accuracy: 0.47\n"
     ]
    }
   ],
   "source": [
    "print ('Train_data Accuracy: %.2f' %accuracy_train)\n",
    "print ('Test_data Accuracy: %.2f' %accuracy_test)"
   ]
  },
  {
   "cell_type": "code",
   "execution_count": 132,
   "id": "cbfa7582",
   "metadata": {},
   "outputs": [],
   "source": [
    "y= data['Close']"
   ]
  },
  {
   "cell_type": "code",
   "execution_count": 133,
   "id": "a9e5c928",
   "metadata": {},
   "outputs": [
    {
     "data": {
      "text/plain": [
       "Date\n",
       "2023-01-30    3433.649902\n",
       "2023-01-31    3358.699951\n",
       "2023-02-01    3408.350098\n",
       "2023-02-02    3460.399902\n",
       "2023-02-03    3482.300049\n",
       "                 ...     \n",
       "2024-01-22    3943.050049\n",
       "2024-01-23    3858.250000\n",
       "2024-01-24    3841.800049\n",
       "2024-01-25    3810.300049\n",
       "2024-01-29    3801.000000\n",
       "Name: Close, Length: 246, dtype: float64"
      ]
     },
     "execution_count": 133,
     "metadata": {},
     "output_type": "execute_result"
    }
   ],
   "source": [
    "y\n"
   ]
  },
  {
   "cell_type": "code",
   "execution_count": 134,
   "id": "9bacf2b3",
   "metadata": {},
   "outputs": [],
   "source": [
    "predictions_classification = model.predict(x_test) \n",
    "  "
   ]
  },
  {
   "cell_type": "code",
   "execution_count": 135,
   "id": "f5769c0d",
   "metadata": {},
   "outputs": [
    {
     "data": {
      "text/html": [
       "<div>\n",
       "<style scoped>\n",
       "    .dataframe tbody tr th:only-of-type {\n",
       "        vertical-align: middle;\n",
       "    }\n",
       "\n",
       "    .dataframe tbody tr th {\n",
       "        vertical-align: top;\n",
       "    }\n",
       "\n",
       "    .dataframe thead th {\n",
       "        text-align: right;\n",
       "    }\n",
       "</style>\n",
       "<table border=\"1\" class=\"dataframe\">\n",
       "  <thead>\n",
       "    <tr style=\"text-align: right;\">\n",
       "      <th></th>\n",
       "      <th>Actual Class</th>\n",
       "      <th>Predicted Class</th>\n",
       "    </tr>\n",
       "  </thead>\n",
       "  <tbody>\n",
       "    <tr>\n",
       "      <th>0</th>\n",
       "      <td>1</td>\n",
       "      <td>-1</td>\n",
       "    </tr>\n",
       "    <tr>\n",
       "      <th>1</th>\n",
       "      <td>-1</td>\n",
       "      <td>-1</td>\n",
       "    </tr>\n",
       "    <tr>\n",
       "      <th>2</th>\n",
       "      <td>-1</td>\n",
       "      <td>1</td>\n",
       "    </tr>\n",
       "    <tr>\n",
       "      <th>3</th>\n",
       "      <td>1</td>\n",
       "      <td>1</td>\n",
       "    </tr>\n",
       "    <tr>\n",
       "      <th>4</th>\n",
       "      <td>1</td>\n",
       "      <td>1</td>\n",
       "    </tr>\n",
       "    <tr>\n",
       "      <th>5</th>\n",
       "      <td>1</td>\n",
       "      <td>1</td>\n",
       "    </tr>\n",
       "    <tr>\n",
       "      <th>6</th>\n",
       "      <td>1</td>\n",
       "      <td>-1</td>\n",
       "    </tr>\n",
       "    <tr>\n",
       "      <th>7</th>\n",
       "      <td>1</td>\n",
       "      <td>-1</td>\n",
       "    </tr>\n",
       "    <tr>\n",
       "      <th>8</th>\n",
       "      <td>1</td>\n",
       "      <td>-1</td>\n",
       "    </tr>\n",
       "    <tr>\n",
       "      <th>9</th>\n",
       "      <td>-1</td>\n",
       "      <td>1</td>\n",
       "    </tr>\n",
       "  </tbody>\n",
       "</table>\n",
       "</div>"
      ],
      "text/plain": [
       "   Actual Class   Predicted Class\n",
       "0             1                -1\n",
       "1            -1                -1\n",
       "2            -1                 1\n",
       "3             1                 1\n",
       "4             1                 1\n",
       "5             1                 1\n",
       "6             1                -1\n",
       "7             1                -1\n",
       "8             1                -1\n",
       "9            -1                 1"
      ]
     },
     "execution_count": 135,
     "metadata": {},
     "output_type": "execute_result"
    }
   ],
   "source": [
    "actual_predicted_data = pd.DataFrame({'Actual Class':y_test, ' Predicted Class':predictions_classification})\n",
    "actual_predicted_data.head(10)  "
   ]
  },
  {
   "cell_type": "code",
   "execution_count": 136,
   "id": "093fbd81",
   "metadata": {},
   "outputs": [],
   "source": [
    "from sklearn.neighbors import KNeighborsRegressor\n",
    "from sklearn import neighbors\n",
    "\n",
    "x_train_reg,x_test_reg,y_train_reg,y_test_reg=train_test_split(X,y,test_size=0.25, random_state=44)\n",
    "params= {'n_neighbors':[2,3,4,5,6,7,8,9,10,11,12,13,14,15]}\n",
    "knn_reg= neighbors.KNeighborsRegressor()\n",
    "model_reg= GridSearchCV(knn_reg, params,cv=5)\n",
    "model_reg.fit(x_train_reg, y_train_reg)\n",
    "predictions=model_reg.predict(x_test_reg)"
   ]
  },
  {
   "cell_type": "code",
   "execution_count": 137,
   "id": "fb7cc922",
   "metadata": {},
   "outputs": [
    {
     "name": "stdout",
     "output_type": "stream",
     "text": [
      "[3367.51249186 3366.82082113 3362.30415853 3415.6541748  3459.17915853\n",
      " 3299.78747559 3411.5166626  3299.15415446 3454.83337402 3553.18332926\n",
      " 3356.77498372 3367.51249186 3379.52081299 3458.73750814 3445.15415446\n",
      " 3439.42500814 3440.2208252  3541.52502441 3400.0958252  3500.09999593\n",
      " 3366.77498372 3288.44999186 3340.32914225 3474.87084961 3488.02500407\n",
      " 3459.60416667 3384.72084554 3427.12502035 3435.5958252  3444.55834961\n",
      " 3344.65419515 3461.72916667 3523.57497152 3486.70001221 3323.53747559\n",
      " 3444.55834961 3480.12917074 3470.90002441 3485.02915446 3386.0916748\n",
      " 3439.49580892 3342.2041626  3510.11669922 3446.18332926 3469.12497965\n",
      " 3384.48748779 3475.74580892 3370.52915446 3562.47501628 3448.4708252\n",
      " 3517.31669108 3459.60416667 3349.38334147 3400.19165039 3427.54585775\n",
      " 3388.17502848 3517.28330485 3491.01668294 3383.66662598 3501.70831299\n",
      " 3500.51251221 3408.26249186]\n"
     ]
    }
   ],
   "source": [
    "print(predictions)"
   ]
  },
  {
   "cell_type": "code",
   "execution_count": 138,
   "id": "45ba0135",
   "metadata": {},
   "outputs": [],
   "source": [
    "rms=np.sqrt(np.mean(np.power((np.array(y_test)-np.array(predictions)),2))) "
   ]
  },
  {
   "cell_type": "code",
   "execution_count": 139,
   "id": "28dc3cae",
   "metadata": {},
   "outputs": [
    {
     "data": {
      "text/plain": [
       "3429.9901035768335"
      ]
     },
     "execution_count": 139,
     "metadata": {},
     "output_type": "execute_result"
    }
   ],
   "source": [
    " rms"
   ]
  },
  {
   "cell_type": "code",
   "execution_count": 140,
   "id": "6535f0c7",
   "metadata": {},
   "outputs": [],
   "source": [
    "valid= pd.DataFrame({'Actual Close':y_test_reg, 'Predicted Close Value': predictions})"
   ]
  },
  {
   "cell_type": "code",
   "execution_count": 141,
   "id": "39941b39",
   "metadata": {},
   "outputs": [
    {
     "data": {
      "text/html": [
       "<div>\n",
       "<style scoped>\n",
       "    .dataframe tbody tr th:only-of-type {\n",
       "        vertical-align: middle;\n",
       "    }\n",
       "\n",
       "    .dataframe tbody tr th {\n",
       "        vertical-align: top;\n",
       "    }\n",
       "\n",
       "    .dataframe thead th {\n",
       "        text-align: right;\n",
       "    }\n",
       "</style>\n",
       "<table border=\"1\" class=\"dataframe\">\n",
       "  <thead>\n",
       "    <tr style=\"text-align: right;\">\n",
       "      <th></th>\n",
       "      <th>Actual Close</th>\n",
       "      <th>Predicted Close Value</th>\n",
       "    </tr>\n",
       "    <tr>\n",
       "      <th>Date</th>\n",
       "      <th></th>\n",
       "      <th></th>\n",
       "    </tr>\n",
       "  </thead>\n",
       "  <tbody>\n",
       "    <tr>\n",
       "      <th>2023-10-27</th>\n",
       "      <td>3350.949951</td>\n",
       "      <td>3367.512492</td>\n",
       "    </tr>\n",
       "    <tr>\n",
       "      <th>2023-12-28</th>\n",
       "      <td>3799.899902</td>\n",
       "      <td>3366.820821</td>\n",
       "    </tr>\n",
       "    <tr>\n",
       "      <th>2023-10-10</th>\n",
       "      <td>3628.899902</td>\n",
       "      <td>3362.304159</td>\n",
       "    </tr>\n",
       "    <tr>\n",
       "      <th>2024-01-04</th>\n",
       "      <td>3666.800049</td>\n",
       "      <td>3415.654175</td>\n",
       "    </tr>\n",
       "    <tr>\n",
       "      <th>2023-02-08</th>\n",
       "      <td>3520.100098</td>\n",
       "      <td>3459.179159</td>\n",
       "    </tr>\n",
       "    <tr>\n",
       "      <th>2023-05-19</th>\n",
       "      <td>3222.850098</td>\n",
       "      <td>3299.787476</td>\n",
       "    </tr>\n",
       "    <tr>\n",
       "      <th>2023-04-03</th>\n",
       "      <td>3200.000000</td>\n",
       "      <td>3411.516663</td>\n",
       "    </tr>\n",
       "    <tr>\n",
       "      <th>2023-07-06</th>\n",
       "      <td>3322.899902</td>\n",
       "      <td>3299.154154</td>\n",
       "    </tr>\n",
       "    <tr>\n",
       "      <th>2023-09-14</th>\n",
       "      <td>3560.050049</td>\n",
       "      <td>3454.833374</td>\n",
       "    </tr>\n",
       "    <tr>\n",
       "      <th>2023-09-29</th>\n",
       "      <td>3528.600098</td>\n",
       "      <td>3553.183329</td>\n",
       "    </tr>\n",
       "  </tbody>\n",
       "</table>\n",
       "</div>"
      ],
      "text/plain": [
       "            Actual Close  Predicted Close Value\n",
       "Date                                           \n",
       "2023-10-27   3350.949951            3367.512492\n",
       "2023-12-28   3799.899902            3366.820821\n",
       "2023-10-10   3628.899902            3362.304159\n",
       "2024-01-04   3666.800049            3415.654175\n",
       "2023-02-08   3520.100098            3459.179159\n",
       "2023-05-19   3222.850098            3299.787476\n",
       "2023-04-03   3200.000000            3411.516663\n",
       "2023-07-06   3322.899902            3299.154154\n",
       "2023-09-14   3560.050049            3454.833374\n",
       "2023-09-29   3528.600098            3553.183329"
      ]
     },
     "execution_count": 141,
     "metadata": {},
     "output_type": "execute_result"
    }
   ],
   "source": [
    "valid.head(10)"
   ]
  },
  {
   "cell_type": "code",
   "execution_count": null,
   "id": "b6af1f0b",
   "metadata": {},
   "outputs": [],
   "source": []
  },
  {
   "cell_type": "code",
   "execution_count": null,
   "id": "39a26f3f",
   "metadata": {},
   "outputs": [],
   "source": []
  }
 ],
 "metadata": {
  "kernelspec": {
   "display_name": "Python 3",
   "language": "python",
   "name": "python3"
  },
  "language_info": {
   "codemirror_mode": {
    "name": "ipython",
    "version": 3
   },
   "file_extension": ".py",
   "mimetype": "text/x-python",
   "name": "python",
   "nbconvert_exporter": "python",
   "pygments_lexer": "ipython3",
   "version": "3.8.8"
  }
 },
 "nbformat": 4,
 "nbformat_minor": 5
}
