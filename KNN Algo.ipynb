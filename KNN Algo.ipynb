{
 "cells": [
  {
   "cell_type": "code",
   "execution_count": 4,
   "id": "c0cc754a",
   "metadata": {},
   "outputs": [],
   "source": [
    "import pandas as pd\n",
    "import numpy as np\n",
    "import matplotlib.pyplot as plt"
   ]
  },
  {
   "cell_type": "code",
   "execution_count": 2,
   "id": "86c1cbeb",
   "metadata": {},
   "outputs": [
    {
     "name": "stdout",
     "output_type": "stream",
     "text": [
      "Collecting quandl\n",
      "  Downloading Quandl-3.7.0-py2.py3-none-any.whl (26 kB)\n",
      "Requirement already satisfied: numpy>=1.8 in c:\\users\\91867\\anaconda3\\lib\\site-packages (from quandl) (1.24.3)\n",
      "Collecting inflection>=0.3.1\n",
      "  Downloading inflection-0.5.1-py2.py3-none-any.whl (9.5 kB)\n",
      "Requirement already satisfied: requests>=2.7.0 in c:\\users\\91867\\anaconda3\\lib\\site-packages (from quandl) (2.25.1)\n",
      "Requirement already satisfied: python-dateutil in c:\\users\\91867\\anaconda3\\lib\\site-packages (from quandl) (2.8.1)\n",
      "Requirement already satisfied: more-itertools in c:\\users\\91867\\anaconda3\\lib\\site-packages (from quandl) (8.7.0)\n",
      "Requirement already satisfied: pandas>=0.14 in c:\\users\\91867\\anaconda3\\lib\\site-packages (from quandl) (1.2.4)\n",
      "Requirement already satisfied: six in c:\\users\\91867\\anaconda3\\lib\\site-packages (from quandl) (1.15.0)\n",
      "Requirement already satisfied: pytz>=2017.3 in c:\\users\\91867\\anaconda3\\lib\\site-packages (from pandas>=0.14->quandl) (2021.1)\n",
      "Requirement already satisfied: chardet<5,>=3.0.2 in c:\\users\\91867\\anaconda3\\lib\\site-packages (from requests>=2.7.0->quandl) (4.0.0)\n",
      "Requirement already satisfied: idna<3,>=2.5 in c:\\users\\91867\\anaconda3\\lib\\site-packages (from requests>=2.7.0->quandl) (2.10)\n",
      "Requirement already satisfied: certifi>=2017.4.17 in c:\\users\\91867\\anaconda3\\lib\\site-packages (from requests>=2.7.0->quandl) (2020.12.5)\n",
      "Requirement already satisfied: urllib3<1.27,>=1.21.1 in c:\\users\\91867\\anaconda3\\lib\\site-packages (from requests>=2.7.0->quandl) (1.26.4)\n",
      "Installing collected packages: inflection, quandl\n",
      "Successfully installed inflection-0.5.1 quandl-3.7.0\n"
     ]
    }
   ],
   "source": [
    "!pip install quandl"
   ]
  },
  {
   "cell_type": "code",
   "execution_count": 5,
   "id": "f1d47a6c",
   "metadata": {},
   "outputs": [],
   "source": [
    "import quandl"
   ]
  },
  {
   "cell_type": "code",
   "execution_count": 6,
   "id": "38509c57",
   "metadata": {},
   "outputs": [],
   "source": [
    " data =  quandl.get(\"NSE/TATAMOTORS\")"
   ]
  },
  {
   "cell_type": "code",
   "execution_count": 7,
   "id": "4e8de427",
   "metadata": {},
   "outputs": [
    {
     "data": {
      "text/html": [
       "<div>\n",
       "<style scoped>\n",
       "    .dataframe tbody tr th:only-of-type {\n",
       "        vertical-align: middle;\n",
       "    }\n",
       "\n",
       "    .dataframe tbody tr th {\n",
       "        vertical-align: top;\n",
       "    }\n",
       "\n",
       "    .dataframe thead th {\n",
       "        text-align: right;\n",
       "    }\n",
       "</style>\n",
       "<table border=\"1\" class=\"dataframe\">\n",
       "  <thead>\n",
       "    <tr style=\"text-align: right;\">\n",
       "      <th></th>\n",
       "      <th>Open</th>\n",
       "      <th>High</th>\n",
       "      <th>Low</th>\n",
       "      <th>Last</th>\n",
       "      <th>Close</th>\n",
       "      <th>Total Trade Quantity</th>\n",
       "      <th>Turnover (Lacs)</th>\n",
       "    </tr>\n",
       "    <tr>\n",
       "      <th>Date</th>\n",
       "      <th></th>\n",
       "      <th></th>\n",
       "      <th></th>\n",
       "      <th></th>\n",
       "      <th></th>\n",
       "      <th></th>\n",
       "      <th></th>\n",
       "    </tr>\n",
       "  </thead>\n",
       "  <tbody>\n",
       "    <tr>\n",
       "      <th>2003-12-26</th>\n",
       "      <td>435.80</td>\n",
       "      <td>440.50</td>\n",
       "      <td>431.65</td>\n",
       "      <td>438.85</td>\n",
       "      <td>438.60</td>\n",
       "      <td>1534637.0</td>\n",
       "      <td>6714.66</td>\n",
       "    </tr>\n",
       "    <tr>\n",
       "      <th>2003-12-29</th>\n",
       "      <td>441.00</td>\n",
       "      <td>449.70</td>\n",
       "      <td>441.00</td>\n",
       "      <td>448.40</td>\n",
       "      <td>447.80</td>\n",
       "      <td>2125952.0</td>\n",
       "      <td>9497.72</td>\n",
       "    </tr>\n",
       "    <tr>\n",
       "      <th>2003-12-30</th>\n",
       "      <td>450.00</td>\n",
       "      <td>451.90</td>\n",
       "      <td>430.10</td>\n",
       "      <td>444.85</td>\n",
       "      <td>442.40</td>\n",
       "      <td>2683293.0</td>\n",
       "      <td>11894.85</td>\n",
       "    </tr>\n",
       "    <tr>\n",
       "      <th>2003-12-31</th>\n",
       "      <td>446.00</td>\n",
       "      <td>459.30</td>\n",
       "      <td>443.55</td>\n",
       "      <td>452.10</td>\n",
       "      <td>452.05</td>\n",
       "      <td>4311596.0</td>\n",
       "      <td>19551.42</td>\n",
       "    </tr>\n",
       "    <tr>\n",
       "      <th>2004-01-01</th>\n",
       "      <td>453.25</td>\n",
       "      <td>457.90</td>\n",
       "      <td>451.50</td>\n",
       "      <td>454.00</td>\n",
       "      <td>454.45</td>\n",
       "      <td>2077604.0</td>\n",
       "      <td>9457.51</td>\n",
       "    </tr>\n",
       "    <tr>\n",
       "      <th>2004-01-02</th>\n",
       "      <td>458.00</td>\n",
       "      <td>460.35</td>\n",
       "      <td>454.05</td>\n",
       "      <td>457.95</td>\n",
       "      <td>456.40</td>\n",
       "      <td>1704790.0</td>\n",
       "      <td>7795.88</td>\n",
       "    </tr>\n",
       "    <tr>\n",
       "      <th>2004-01-05</th>\n",
       "      <td>458.00</td>\n",
       "      <td>465.00</td>\n",
       "      <td>450.60</td>\n",
       "      <td>451.50</td>\n",
       "      <td>454.85</td>\n",
       "      <td>2141245.0</td>\n",
       "      <td>9767.85</td>\n",
       "    </tr>\n",
       "    <tr>\n",
       "      <th>2004-01-06</th>\n",
       "      <td>460.00</td>\n",
       "      <td>465.00</td>\n",
       "      <td>448.50</td>\n",
       "      <td>450.25</td>\n",
       "      <td>454.45</td>\n",
       "      <td>2360145.0</td>\n",
       "      <td>10850.57</td>\n",
       "    </tr>\n",
       "    <tr>\n",
       "      <th>2004-01-07</th>\n",
       "      <td>451.40</td>\n",
       "      <td>454.70</td>\n",
       "      <td>438.10</td>\n",
       "      <td>447.95</td>\n",
       "      <td>446.45</td>\n",
       "      <td>3766229.0</td>\n",
       "      <td>16707.04</td>\n",
       "    </tr>\n",
       "    <tr>\n",
       "      <th>2004-01-08</th>\n",
       "      <td>449.00</td>\n",
       "      <td>466.95</td>\n",
       "      <td>449.00</td>\n",
       "      <td>465.90</td>\n",
       "      <td>464.75</td>\n",
       "      <td>1965051.0</td>\n",
       "      <td>9048.59</td>\n",
       "    </tr>\n",
       "  </tbody>\n",
       "</table>\n",
       "</div>"
      ],
      "text/plain": [
       "              Open    High     Low    Last   Close  Total Trade Quantity  \\\n",
       "Date                                                                       \n",
       "2003-12-26  435.80  440.50  431.65  438.85  438.60             1534637.0   \n",
       "2003-12-29  441.00  449.70  441.00  448.40  447.80             2125952.0   \n",
       "2003-12-30  450.00  451.90  430.10  444.85  442.40             2683293.0   \n",
       "2003-12-31  446.00  459.30  443.55  452.10  452.05             4311596.0   \n",
       "2004-01-01  453.25  457.90  451.50  454.00  454.45             2077604.0   \n",
       "2004-01-02  458.00  460.35  454.05  457.95  456.40             1704790.0   \n",
       "2004-01-05  458.00  465.00  450.60  451.50  454.85             2141245.0   \n",
       "2004-01-06  460.00  465.00  448.50  450.25  454.45             2360145.0   \n",
       "2004-01-07  451.40  454.70  438.10  447.95  446.45             3766229.0   \n",
       "2004-01-08  449.00  466.95  449.00  465.90  464.75             1965051.0   \n",
       "\n",
       "            Turnover (Lacs)  \n",
       "Date                         \n",
       "2003-12-26          6714.66  \n",
       "2003-12-29          9497.72  \n",
       "2003-12-30         11894.85  \n",
       "2003-12-31         19551.42  \n",
       "2004-01-01          9457.51  \n",
       "2004-01-02          7795.88  \n",
       "2004-01-05          9767.85  \n",
       "2004-01-06         10850.57  \n",
       "2004-01-07         16707.04  \n",
       "2004-01-08          9048.59  "
      ]
     },
     "execution_count": 7,
     "metadata": {},
     "output_type": "execute_result"
    }
   ],
   "source": [
    "data.head(10)"
   ]
  },
  {
   "cell_type": "code",
   "execution_count": 8,
   "id": "063ffbf1",
   "metadata": {},
   "outputs": [
    {
     "data": {
      "text/plain": [
       "[<matplotlib.lines.Line2D at 0x23771b01e50>]"
      ]
     },
     "execution_count": 8,
     "metadata": {},
     "output_type": "execute_result"
    },
    {
     "data": {
      "image/png": "[encoded data removed]",
      "text/plain": [
       "<Figure size 720x576 with 1 Axes>"
      ]
     },
     "metadata": {
      "needs_background": "light"
     },
     "output_type": "display_data"
    }
   ],
   "source": [
    "plt.figure(figsize=(10,8))\n",
    "plt.plot(data['Close'], label='Closing Price')"
   ]
  },
  {
   "cell_type": "code",
   "execution_count": 9,
   "id": "def69da2",
   "metadata": {},
   "outputs": [],
   "source": [
    "data['Open - Close'] = data['Open'] - data['Close']\n",
    "data['High - Low'] = data['High'] - data['Low']\n",
    "data = data.dropna()"
   ]
  },
  {
   "cell_type": "code",
   "execution_count": 10,
   "id": "6ff48c69",
   "metadata": {},
   "outputs": [
    {
     "data": {
      "text/html": [
       "<div>\n",
       "<style scoped>\n",
       "    .dataframe tbody tr th:only-of-type {\n",
       "        vertical-align: middle;\n",
       "    }\n",
       "\n",
       "    .dataframe tbody tr th {\n",
       "        vertical-align: top;\n",
       "    }\n",
       "\n",
       "    .dataframe thead th {\n",
       "        text-align: right;\n",
       "    }\n",
       "</style>\n",
       "<table border=\"1\" class=\"dataframe\">\n",
       "  <thead>\n",
       "    <tr style=\"text-align: right;\">\n",
       "      <th></th>\n",
       "      <th>Open - Close</th>\n",
       "      <th>High - Low</th>\n",
       "    </tr>\n",
       "    <tr>\n",
       "      <th>Date</th>\n",
       "      <th></th>\n",
       "      <th></th>\n",
       "    </tr>\n",
       "  </thead>\n",
       "  <tbody>\n",
       "    <tr>\n",
       "      <th>2003-12-26</th>\n",
       "      <td>-2.80</td>\n",
       "      <td>8.85</td>\n",
       "    </tr>\n",
       "    <tr>\n",
       "      <th>2003-12-29</th>\n",
       "      <td>-6.80</td>\n",
       "      <td>8.70</td>\n",
       "    </tr>\n",
       "    <tr>\n",
       "      <th>2003-12-30</th>\n",
       "      <td>7.60</td>\n",
       "      <td>21.80</td>\n",
       "    </tr>\n",
       "    <tr>\n",
       "      <th>2003-12-31</th>\n",
       "      <td>-6.05</td>\n",
       "      <td>15.75</td>\n",
       "    </tr>\n",
       "    <tr>\n",
       "      <th>2004-01-01</th>\n",
       "      <td>-1.20</td>\n",
       "      <td>6.40</td>\n",
       "    </tr>\n",
       "  </tbody>\n",
       "</table>\n",
       "</div>"
      ],
      "text/plain": [
       "            Open - Close  High - Low\n",
       "Date                                \n",
       "2003-12-26         -2.80        8.85\n",
       "2003-12-29         -6.80        8.70\n",
       "2003-12-30          7.60       21.80\n",
       "2003-12-31         -6.05       15.75\n",
       "2004-01-01         -1.20        6.40"
      ]
     },
     "execution_count": 10,
     "metadata": {},
     "output_type": "execute_result"
    }
   ],
   "source": [
    "X = data[['Open - Close', 'High - Low']]\n",
    "X.head()"
   ]
  },
  {
   "cell_type": "code",
   "execution_count": 11,
   "id": "05f276b2",
   "metadata": {},
   "outputs": [],
   "source": [
    "Y = np.where(data['Close'].shift(-1)>data['Close'],1,-1)"
   ]
  },
  {
   "cell_type": "code",
   "execution_count": 12,
   "id": "03ccd31a",
   "metadata": {},
   "outputs": [
    {
     "data": {
      "text/plain": [
       "array([ 1, -1,  1, ..., -1,  1, -1])"
      ]
     },
     "execution_count": 12,
     "metadata": {},
     "output_type": "execute_result"
    }
   ],
   "source": [
    "Y"
   ]
  },
  {
   "cell_type": "code",
   "execution_count": 13,
   "id": "d2ee7a13",
   "metadata": {},
   "outputs": [
    {
     "name": "stderr",
     "output_type": "stream",
     "text": [
      "C:\\Users\\91867\\anaconda3\\lib\\site-packages\\scipy\\__init__.py:138: UserWarning: A NumPy version >=1.16.5 and <1.23.0 is required for this version of SciPy (detected version 1.24.3)\n",
      "  warnings.warn(f\"A NumPy version >={np_minversion} and <{np_maxversion} is required for this version of \"\n"
     ]
    }
   ],
   "source": [
    "from sklearn.model_selection import train_test_split\n",
    "x_train, x_test, y_train, y_test = train_test_split(X,Y,test_size=0.25, random_state = 44)"
   ]
  },
  {
   "cell_type": "code",
   "execution_count": 14,
   "id": "debce6e0",
   "metadata": {},
   "outputs": [],
   "source": [
    "from sklearn.neighbors import KNeighborsClassifier\n",
    "from sklearn import neighbors\n",
    "from sklearn.model_selection import GridSearchCV\n",
    "from sklearn.metrics import accuracy_score"
   ]
  },
  {
   "cell_type": "code",
   "execution_count": null,
   "id": "a6f83953",
   "metadata": {},
   "outputs": [],
   "source": [
    " "
   ]
  },
  {
   "cell_type": "code",
   "execution_count": 15,
   "id": "6e5bb9e1",
   "metadata": {},
   "outputs": [],
   "source": [
    "params = {'n_neighbors':[2,3,4,5,6,7,8,9,10,11,12,13,14,15]}\n",
    "knn= neighbors.KNeighborsClassifier()\n",
    "model=GridSearchCV(knn,params, cv=5)\n",
    "\n",
    "model.fit(x_train, y_train)\n",
    "\n",
    "accuracy_train = accuracy_score(y_train, model.predict(x_train))\n",
    "accuracy_test = accuracy_score(y_test, model.predict(x_test))"
   ]
  },
  {
   "cell_type": "code",
   "execution_count": 16,
   "id": "10572f4d",
   "metadata": {},
   "outputs": [
    {
     "name": "stdout",
     "output_type": "stream",
     "text": [
      "Train_data Accuracy: 0.76\n",
      "Test_data Accuracy: 0.52\n"
     ]
    }
   ],
   "source": [
    "print ('Train_data Accuracy: %.2f' %accuracy_train)\n",
    "print ('Test_data Accuracy: %.2f' %accuracy_test)"
   ]
  },
  {
   "cell_type": "code",
   "execution_count": 17,
   "id": "cbfa7582",
   "metadata": {},
   "outputs": [],
   "source": [
    "y= data['Close']"
   ]
  },
  {
   "cell_type": "code",
   "execution_count": 18,
   "id": "a9e5c928",
   "metadata": {},
   "outputs": [
    {
     "data": {
      "text/plain": [
       "Date\n",
       "2003-12-26    438.60\n",
       "2003-12-29    447.80\n",
       "2003-12-30    442.40\n",
       "2003-12-31    452.05\n",
       "2004-01-01    454.45\n",
       "               ...  \n",
       "2018-12-31    172.70\n",
       "2019-01-01    173.45\n",
       "2019-01-02    168.55\n",
       "2019-01-03    166.05\n",
       "2019-01-04    170.95\n",
       "Name: Close, Length: 3734, dtype: float64"
      ]
     },
     "execution_count": 18,
     "metadata": {},
     "output_type": "execute_result"
    }
   ],
   "source": [
    "y\n"
   ]
  },
  {
   "cell_type": "code",
   "execution_count": 19,
   "id": "9bacf2b3",
   "metadata": {},
   "outputs": [],
   "source": [
    "predictions_classification = model.predict(x_test) \n",
    "  "
   ]
  },
  {
   "cell_type": "code",
   "execution_count": 20,
   "id": "f5769c0d",
   "metadata": {},
   "outputs": [
    {
     "data": {
      "text/html": [
       "<div>\n",
       "<style scoped>\n",
       "    .dataframe tbody tr th:only-of-type {\n",
       "        vertical-align: middle;\n",
       "    }\n",
       "\n",
       "    .dataframe tbody tr th {\n",
       "        vertical-align: top;\n",
       "    }\n",
       "\n",
       "    .dataframe thead th {\n",
       "        text-align: right;\n",
       "    }\n",
       "</style>\n",
       "<table border=\"1\" class=\"dataframe\">\n",
       "  <thead>\n",
       "    <tr style=\"text-align: right;\">\n",
       "      <th></th>\n",
       "      <th>Actual Class</th>\n",
       "      <th>Predicted Class</th>\n",
       "    </tr>\n",
       "  </thead>\n",
       "  <tbody>\n",
       "    <tr>\n",
       "      <th>0</th>\n",
       "      <td>-1</td>\n",
       "      <td>1</td>\n",
       "    </tr>\n",
       "    <tr>\n",
       "      <th>1</th>\n",
       "      <td>1</td>\n",
       "      <td>1</td>\n",
       "    </tr>\n",
       "    <tr>\n",
       "      <th>2</th>\n",
       "      <td>1</td>\n",
       "      <td>-1</td>\n",
       "    </tr>\n",
       "    <tr>\n",
       "      <th>3</th>\n",
       "      <td>1</td>\n",
       "      <td>1</td>\n",
       "    </tr>\n",
       "    <tr>\n",
       "      <th>4</th>\n",
       "      <td>-1</td>\n",
       "      <td>-1</td>\n",
       "    </tr>\n",
       "    <tr>\n",
       "      <th>5</th>\n",
       "      <td>-1</td>\n",
       "      <td>1</td>\n",
       "    </tr>\n",
       "    <tr>\n",
       "      <th>6</th>\n",
       "      <td>1</td>\n",
       "      <td>-1</td>\n",
       "    </tr>\n",
       "    <tr>\n",
       "      <th>7</th>\n",
       "      <td>-1</td>\n",
       "      <td>-1</td>\n",
       "    </tr>\n",
       "    <tr>\n",
       "      <th>8</th>\n",
       "      <td>1</td>\n",
       "      <td>1</td>\n",
       "    </tr>\n",
       "    <tr>\n",
       "      <th>9</th>\n",
       "      <td>1</td>\n",
       "      <td>-1</td>\n",
       "    </tr>\n",
       "  </tbody>\n",
       "</table>\n",
       "</div>"
      ],
      "text/plain": [
       "   Actual Class   Predicted Class\n",
       "0            -1                 1\n",
       "1             1                 1\n",
       "2             1                -1\n",
       "3             1                 1\n",
       "4            -1                -1\n",
       "5            -1                 1\n",
       "6             1                -1\n",
       "7            -1                -1\n",
       "8             1                 1\n",
       "9             1                -1"
      ]
     },
     "execution_count": 20,
     "metadata": {},
     "output_type": "execute_result"
    }
   ],
   "source": [
    "actual_predicted_data = pd.DataFrame({'Actual Class':y_test, ' Predicted Class':predictions_classification})\n",
    "actual_predicted_data.head(10)  "
   ]
  },
  {
   "cell_type": "code",
   "execution_count": null,
   "id": "0adff39d",
   "metadata": {},
   "outputs": [],
   "source": []
  },
  {
   "cell_type": "code",
   "execution_count": 25,
   "id": "093fbd81",
   "metadata": {},
   "outputs": [],
   "source": [
    "from sklearn.neighbors import KNeighborsRegressor\n",
    "from sklearn import neighbors\n",
    "\n",
    "x_train_reg,x_test_reg,y_train_reg,y_test_reg=train_test_split(X,y,test_size=0.25, random_state=44)\n",
    "params= {'n_neighbors':[2,3,4,5,6,7,8,9,10,11,12,13,14,15]}\n",
    "knn_reg= neighbors.KNeighborsRegressor()\n",
    "model_reg= GridSearchCV(knn_reg, params,cv=5)\n",
    "model_reg.fit(x_train_reg, y_train_reg)\n",
    "predictions=model_reg.predict(x_test_reg)"
   ]
  },
  {
   "cell_type": "code",
   "execution_count": null,
   "id": "7988b2c0",
   "metadata": {},
   "outputs": [],
   "source": []
  },
  {
   "cell_type": "code",
   "execution_count": 26,
   "id": "fb7cc922",
   "metadata": {},
   "outputs": [
    {
     "name": "stdout",
     "output_type": "stream",
     "text": [
      "[ 433.07857143  355.00357143  665.97142857  546.51071429  295.81428571\n",
      "  537.51428571  723.95        661.775       515.38928571  651.58571429\n",
      "  876.15        720.90714286  521.50357143  756.43214286  330.63571429\n",
      "  307.96785714  399.63571429  343.05357143  669.62857143  810.70714286\n",
      "  440.56071429  311.12857143  400.30357143  570.56071429  288.70714286\n",
      "  904.18928571  393.85714286  690.44285714  727.13214286  709.12142857\n",
      "  855.19642857  429.14285714  466.          504.12142857  418.86785714\n",
      "  637.45357143  839.26785714  852.275       633.83928571  409.99642857\n",
      "  329.26785714  415.44642857  315.54642857  636.81428571  690.41428571\n",
      "  518.86428571  315.34285714  629.15357143  338.39285714  387.86071429\n",
      "  633.34642857  873.75714286  653.31785714  477.60357143  503.94642857\n",
      "  601.975       658.375       393.94642857  588.58214286  411.77857143\n",
      "  678.38928571  390.92857143  659.43571429  319.43214286  382.02857143\n",
      "  323.35357143  447.78571429  553.27142857  317.69285714  382.09642857\n",
      "  375.83928571  421.475       355.16785714  513.00357143  391.07857143\n",
      "  558.42857143  280.22142857  338.99285714  412.97142857  661.07142857\n",
      "  361.61428571  764.21071429  768.15357143  502.025       351.13928571\n",
      "  460.50714286  383.625       359.98214286  437.44285714  716.48571429\n",
      "  405.625       401.95714286  369.76071429  686.94642857  555.06785714\n",
      "  730.44285714  904.26785714  342.90357143  509.54285714  399.03571429\n",
      "  674.15357143  690.02142857  360.44642857  587.92142857  784.86071429\n",
      "  372.16785714  917.10714286  309.50714286  372.28928571  370.28214286\n",
      "  901.60357143 1014.98928571  334.84642857  428.37857143  656.64642857\n",
      "  427.79642857  291.1         287.69642857  285.05357143  322.01071429\n",
      "  233.575       293.18571429  768.19642857  362.76785714  397.61428571\n",
      "  290.01071429  531.51428571  380.29642857  512.03571429  721.025\n",
      "  644.78928571  332.36428571  733.85357143  624.81785714  720.88928571\n",
      "  588.86071429  385.8         430.61428571  730.44285714  424.23214286\n",
      "  399.99285714  339.70714286  410.66428571  535.70714286  631.94642857\n",
      "  343.13928571  399.29285714  797.11071429  318.95        367.79642857\n",
      "  369.08928571  681.22857143  861.57142857  357.85357143  619.10714286\n",
      "  339.39642857  562.36071429  369.86071429  955.10357143  984.875\n",
      "  360.87142857  605.74642857  385.72142857  287.00357143  794.43571429\n",
      "  537.92857143  475.36071429  389.10357143  429.66071429  594.06428571\n",
      "  538.03214286  438.675       381.02857143  386.95        414.82142857\n",
      "  783.7         851.05        567.525       299.21428571  598.53928571\n",
      "  390.59285714  512.35357143  950.1         452.10357143  378.78214286\n",
      "  928.96428571  373.825       320.21071429  596.05357143  890.90714286\n",
      "  732.26785714  311.67142857  300.86428571  682.97857143  690.46428571\n",
      "  633.11071429  402.91785714  582.10714286  509.30714286  344.45357143\n",
      "  316.24285714  945.26785714  371.50357143  397.79285714  417.04285714\n",
      "  329.88214286  357.59642857  480.99642857  529.15        406.78214286\n",
      "  505.125       707.11785714  508.69642857  469.38214286  363.23214286\n",
      "  505.94642857  797.975       980.67142857  332.06785714  556.44642857\n",
      "  646.78214286  320.18571429  443.96428571  559.80357143  338.71428571\n",
      "  555.71071429  415.58928571  464.84285714  586.41428571  377.40714286\n",
      "  288.57857143  347.29642857  337.28928571  651.86785714  904.71785714\n",
      "  504.9         527.15714286  664.98214286  425.95714286  621.57857143\n",
      "  416.77857143  289.43928571  356.78214286  682.04642857  678.56785714\n",
      "  450.60714286  333.51785714  737.23214286  685.95357143  735.40357143\n",
      "  520.94285714  566.54285714  536.13928571  392.45357143  782.96785714\n",
      "  366.28571429  335.69642857  932.8         623.26428571  408.54642857\n",
      "  818.98571429  455.53214286  476.48571429  728.70714286  643.21071429\n",
      "  288.34642857  312.55714286  845.23928571  591.61071429  650.98928571\n",
      "  481.91071429  684.91785714  298.81071429  506.35357143  407.53928571\n",
      "  573.08928571  297.78928571  377.04285714  830.18571429  302.08571429\n",
      "  313.38928571  640.425       390.89285714  280.98214286  647.69285714\n",
      "  419.55714286  332.19285714  375.01785714  624.88928571  477.79285714\n",
      "  381.          750.51071429  727.675       558.97142857  292.23571429\n",
      "  664.08928571  476.54642857  839.31071429  297.41071429  449.27142857\n",
      "  876.63214286  437.05357143  336.41428571  448.23214286  622.975\n",
      "  365.64642857  700.58214286  407.07142857  405.55        635.66428571\n",
      "  464.68928571  397.35        276.15        392.28214286  313.38928571\n",
      "  461.52142857  477.58928571  341.54285714  333.25714286  745.58928571\n",
      "  896.99285714  825.19642857  624.11428571  635.275       435.61071429\n",
      "  262.16428571  349.52857143  525.19285714  371.30357143  652.83928571\n",
      "  422.37142857  568.78928571  817.82142857  439.66785714  418.01785714\n",
      "  351.63214286  436.79642857  646.7         580.09642857  896.96785714\n",
      "  491.08571429  574.01071429  368.62142857  695.07142857  668.26071429\n",
      "  232.40714286  368.17857143  338.18571429  360.57142857  291.30714286\n",
      "  362.71428571  305.47142857  419.55714286  517.6         438.77857143\n",
      "  377.26785714  273.025       431.75714286  541.74285714  737.16785714\n",
      "  285.25357143  416.26428571  646.47857143  501.87142857  539.63571429\n",
      "  404.00714286  590.36071429  416.30714286  767.84642857  413.72857143\n",
      "  510.34642857  712.63214286  462.1         537.40714286  489.54285714\n",
      "  467.26785714  970.28214286  312.18571429  309.67142857  576.64642857\n",
      "  688.67857143  419.46785714  364.21428571  684.71428571  481.225\n",
      "  588.66785714  453.85        622.73214286  698.94642857  425.71428571\n",
      "  900.38571429  404.75714286  547.73214286  558.84285714  887.43214286\n",
      "  357.04285714  739.85714286  410.30714286  855.64642857  403.88214286\n",
      "  557.83928571  768.15357143  409.46071429  265.50714286  410.55\n",
      "  737.89642857  590.36071429  638.01785714  396.88928571  539.725\n",
      "  395.73571429  581.67142857  932.8         315.52857143  606.28214286\n",
      "  520.35        514.46428571  922.72142857  653.83571429  424.95\n",
      "  694.53571429  434.34642857  800.125       358.90714286  788.59642857\n",
      "  795.18928571  388.76785714  350.34285714  320.52857143  384.87857143\n",
      "  441.9         641.13928571  354.23214286  430.59285714  777.73214286\n",
      "  624.16071429  651.49285714  619.69642857  710.025       388.01071429\n",
      "  844.52142857  720.77857143  589.00357143  555.23928571  629.90357143\n",
      "  746.          359.03928571  398.84642857  304.21785714  465.14642857\n",
      "  705.50357143  471.06428571  272.69642857  426.49285714  369.85357143\n",
      "  485.79285714  400.83928571  288.70714286  858.49285714  391.35\n",
      "  702.72142857  728.62142857  563.47857143  312.56785714  818.28214286\n",
      "  402.38214286  311.775       365.55        296.52857143  414.325\n",
      "  553.97857143  497.88928571  332.03571429  971.87142857  610.66071429\n",
      "  660.81428571  746.          268.82857143  426.26785714  659.06071429\n",
      "  471.51428571  335.075       637.65357143  601.46071429  353.31785714\n",
      "  400.42142857  558.52857143  349.08571429  539.99285714  569.1\n",
      "  508.53928571  491.02857143  449.37142857  510.73214286  355.41428571\n",
      "  876.88928571  367.79642857  616.20714286  483.78214286  693.20357143\n",
      "  665.02857143  429.125       723.37857143  885.45        412.18214286\n",
      "  779.68214286  788.13928571  331.22857143  351.61428571  481.41785714\n",
      "  721.27142857  371.02857143  497.575       290.23928571  504.63571429\n",
      "  343.9         375.9         415.21071429  968.79285714  272.08214286\n",
      "  337.81071429  419.61785714  361.36428571  312.55357143  387.95\n",
      "  278.60714286  426.82857143  430.52142857  509.78214286  372.31428571\n",
      "  261.61785714  472.82857143  361.95714286  579.99642857  620.525\n",
      "  589.43214286  302.76071429  592.89285714  487.41071429  381.21785714\n",
      "  846.57142857  355.8         345.88214286  889.45714286  353.46071429\n",
      "  765.18928571  384.41428571  860.56071429  445.6         363.16071429\n",
      "  753.6         355.42142857  314.99642857  581.06428571  603.40714286\n",
      "  538.15        506.35357143  376.325       348.22857143  302.77857143\n",
      "  672.88928571  747.59642857  908.15        374.36785714  336.775\n",
      "  335.97857143  331.89642857  855.21785714  265.075       499.49642857\n",
      "  491.08571429  890.71071429  734.18571429  350.65357143  440.16428571\n",
      "  803.98571429  563.45        792.73571429  941.98214286  397.75357143\n",
      "  836.88571429  675.05        432.47142857  412.81785714  712.275\n",
      "  703.41071429  347.31071429  400.79642857  916.84285714  401.56071429\n",
      "  652.25714286  854.27142857  762.93928571  321.025       844.83928571\n",
      "  709.05714286  388.975       469.36428571  485.13571429  704.72142857\n",
      "  347.          350.34285714  375.78928571  331.88928571  227.68571429\n",
      "  342.28571429  547.81785714  491.58214286  298.91428571  479.46071429\n",
      "  909.71071429  347.37142857  757.13214286  301.34642857  556.78214286\n",
      "  715.3         884.21785714  687.98928571  568.78928571  389.09642857\n",
      "  397.89285714  782.96785714  339.97142857  581.95357143  682.68214286\n",
      "  713.20714286  940.15714286  429.08928571  784.35714286  410.66428571\n",
      "  606.73214286  373.47857143  696.93928571  733.475       632.86071429\n",
      "  659.475       329.87142857  876.39285714  430.32857143  383.48928571\n",
      "  333.86071429  495.40357143  773.77142857  678.47142857  950.31785714\n",
      "  483.57142857  379.36071429  378.22142857  395.73571429  359.93571429\n",
      "  290.64285714  625.95        305.275       583.10357143  450.21071429\n",
      "  660.86785714  723.18571429  659.725       713.82857143  354.66428571\n",
      "  329.62857143  536.52142857  779.85357143  927.27142857  418.61785714\n",
      "  649.61071429  396.90714286  250.42142857  847.40357143  406.21785714\n",
      "  372.55714286  282.95        386.14642857  403.03214286  516.45\n",
      "  570.88571429  832.76071429  892.3         294.66785714  266.55357143\n",
      "  379.68214286  518.375       818.42142857  909.53928571  885.29642857\n",
      "  584.06071429  641.97142857  759.79285714  454.16071429  590.28214286\n",
      "  564.95357143  388.69285714  329.87142857  400.32857143  647.05714286\n",
      "  387.05714286  483.275       599.84285714  544.85714286  802.98214286\n",
      "  586.37857143  273.88214286  550.03571429  666.20714286  398.08571429\n",
      "  724.91785714  758.26428571  946.82142857  367.73928571  314.40714286\n",
      "  553.29285714  759.83571429  444.46785714  463.58214286  363.03571429\n",
      "  363.91071429  583.42857143  287.23928571  349.18214286  755.85714286\n",
      "  363.54285714  294.09285714  643.78571429  540.42857143  983.88928571\n",
      "  735.91071429  322.00714286  497.58571429  317.09642857  644.88214286\n",
      "  527.66785714  557.49642857  388.98214286  774.4         399.425\n",
      "  436.19285714  417.88571429  758.78928571  334.65714286  302.05714286\n",
      "  750.79285714  310.73928571  272.46428571  608.58571429  401.75357143\n",
      "  426.00714286  641.51071429  688.63928571  792.80357143  388.01071429\n",
      "  330.45714286  422.675       398.36785714  457.60714286  928.93928571\n",
      "  267.42857143  363.85714286  588.56428571  712.63214286  441.91071429\n",
      "  349.19642857  383.41071429  517.7         371.96428571  583.50357143\n",
      "  416.56071429  420.17857143  344.25357143  761.39285714  849.44285714\n",
      "  375.83928571  728.35714286  438.475       582.22857143  318.98571429\n",
      "  656.23928571  548.46428571  386.55714286  334.02142857  396.43928571\n",
      "  735.78214286  555.44642857  407.16428571  504.575       383.77142857\n",
      "  643.93571429  231.97857143  264.625       363.28571429  881.04285714\n",
      "  465.66428571  750.79285714  684.4         567.20714286  545.51071429\n",
      "  689.47142857  775.51428571  456.05714286  636.61785714  337.64285714\n",
      "  335.79285714  321.05        509.20714286  362.62142857  422.16785714\n",
      "  390.78571429  435.55357143  506.26428571  580.05357143  814.96785714\n",
      "  438.11785714  749.42142857  455.17142857  661.075       396.14285714\n",
      "  406.13928571  842.575       373.13928571  355.07857143  852.09642857\n",
      "  439.62857143  373.43571429  459.53928571  716.51785714  406.69642857\n",
      "  289.26785714  743.525       510.125       470.35        710.025\n",
      "  517.81071429  747.29642857  949.44642857  313.15714286  609.59285714\n",
      "  374.9         393.11071429  840.59642857  331.92142857  562.80714286\n",
      "  511.275       900.38571429  678.89642857  392.25        329.93928571\n",
      "  311.98571429  546.56428571  750.18928571  737.33571429  371.24285714\n",
      "  750.91785714  626.88928571  587.51428571  333.66785714  698.61428571\n",
      "  386.69642857  455.95714286  632.84642857  338.425       296.30357143\n",
      "  389.96071429  808.06071429  633.83571429  276.13571429  362.74285714\n",
      "  352.16428571  425.33928571  416.39285714  828.94642857  311.05\n",
      "  808.66785714  446.86785714  450.88214286  396.625       702.68928571\n",
      "  350.48214286  908.95714286  406.025       409.875       473.31071429\n",
      "  400.57857143  514.48214286  376.775       576.825       414.31071429\n",
      "  340.64285714  576.825       425.23928571  892.19285714  446.56071429\n",
      "  754.79642857  356.78214286  648.31071429  385.62142857  529.87142857\n",
      "  373.91428571  425.48928571  772.93571429  955.34642857  691.79642857\n",
      "  448.35357143  492.42857143  311.175       360.15357143  893.50714286\n",
      "  420.71785714  583.03214286  601.50714286  260.68928571  762.525\n",
      "  523.50714286  800.98571429  590.30714286  527.83928571  748.45714286\n",
      "  418.475       280.99285714  491.08571429  554.04285714  295.49642857\n",
      "  295.07857143  225.70357143  442.33571429  420.27857143  531.56785714\n",
      "  742.38571429  733.85357143  416.56071429  442.28571429  364.475\n",
      "  651.25        387.21785714  510.43928571  412.53571429]\n"
     ]
    }
   ],
   "source": [
    "print(predictions)"
   ]
  },
  {
   "cell_type": "code",
   "execution_count": 27,
   "id": "45ba0135",
   "metadata": {},
   "outputs": [],
   "source": [
    "rms=np.sqrt(np.mean(np.power((np.array(y_test)-np.array(predictions)),2))) "
   ]
  },
  {
   "cell_type": "code",
   "execution_count": 28,
   "id": "28dc3cae",
   "metadata": {},
   "outputs": [
    {
     "data": {
      "text/plain": [
       "554.6741448610907"
      ]
     },
     "execution_count": 28,
     "metadata": {},
     "output_type": "execute_result"
    }
   ],
   "source": [
    " rms"
   ]
  },
  {
   "cell_type": "code",
   "execution_count": 29,
   "id": "6535f0c7",
   "metadata": {},
   "outputs": [],
   "source": [
    "valid= pd.DataFrame({'Actual Close':y_test_reg, 'Predicted Close Value': predictions})"
   ]
  },
  {
   "cell_type": "code",
   "execution_count": 30,
   "id": "39941b39",
   "metadata": {},
   "outputs": [
    {
     "data": {
      "text/html": [
       "<div>\n",
       "<style scoped>\n",
       "    .dataframe tbody tr th:only-of-type {\n",
       "        vertical-align: middle;\n",
       "    }\n",
       "\n",
       "    .dataframe tbody tr th {\n",
       "        vertical-align: top;\n",
       "    }\n",
       "\n",
       "    .dataframe thead th {\n",
       "        text-align: right;\n",
       "    }\n",
       "</style>\n",
       "<table border=\"1\" class=\"dataframe\">\n",
       "  <thead>\n",
       "    <tr style=\"text-align: right;\">\n",
       "      <th></th>\n",
       "      <th>Actual Close</th>\n",
       "      <th>Predicted Close Value</th>\n",
       "    </tr>\n",
       "    <tr>\n",
       "      <th>Date</th>\n",
       "      <th></th>\n",
       "      <th></th>\n",
       "    </tr>\n",
       "  </thead>\n",
       "  <tbody>\n",
       "    <tr>\n",
       "      <th>2004-10-14</th>\n",
       "      <td>406.70</td>\n",
       "      <td>433.078571</td>\n",
       "    </tr>\n",
       "    <tr>\n",
       "      <th>2008-11-24</th>\n",
       "      <td>133.30</td>\n",
       "      <td>355.003571</td>\n",
       "    </tr>\n",
       "    <tr>\n",
       "      <th>2007-11-13</th>\n",
       "      <td>693.30</td>\n",
       "      <td>665.971429</td>\n",
       "    </tr>\n",
       "    <tr>\n",
       "      <th>2008-12-18</th>\n",
       "      <td>173.65</td>\n",
       "      <td>546.510714</td>\n",
       "    </tr>\n",
       "    <tr>\n",
       "      <th>2013-02-07</th>\n",
       "      <td>288.60</td>\n",
       "      <td>295.814286</td>\n",
       "    </tr>\n",
       "    <tr>\n",
       "      <th>2010-02-18</th>\n",
       "      <td>709.85</td>\n",
       "      <td>537.514286</td>\n",
       "    </tr>\n",
       "    <tr>\n",
       "      <th>2008-10-10</th>\n",
       "      <td>292.35</td>\n",
       "      <td>723.950000</td>\n",
       "    </tr>\n",
       "    <tr>\n",
       "      <th>2009-08-13</th>\n",
       "      <td>473.05</td>\n",
       "      <td>661.775000</td>\n",
       "    </tr>\n",
       "    <tr>\n",
       "      <th>2015-11-10</th>\n",
       "      <td>407.45</td>\n",
       "      <td>515.389286</td>\n",
       "    </tr>\n",
       "    <tr>\n",
       "      <th>2011-06-14</th>\n",
       "      <td>984.00</td>\n",
       "      <td>651.585714</td>\n",
       "    </tr>\n",
       "  </tbody>\n",
       "</table>\n",
       "</div>"
      ],
      "text/plain": [
       "            Actual Close  Predicted Close Value\n",
       "Date                                           \n",
       "2004-10-14        406.70             433.078571\n",
       "2008-11-24        133.30             355.003571\n",
       "2007-11-13        693.30             665.971429\n",
       "2008-12-18        173.65             546.510714\n",
       "2013-02-07        288.60             295.814286\n",
       "2010-02-18        709.85             537.514286\n",
       "2008-10-10        292.35             723.950000\n",
       "2009-08-13        473.05             661.775000\n",
       "2015-11-10        407.45             515.389286\n",
       "2011-06-14        984.00             651.585714"
      ]
     },
     "execution_count": 30,
     "metadata": {},
     "output_type": "execute_result"
    }
   ],
   "source": [
    "valid.head(10)"
   ]
  },
  {
   "cell_type": "code",
   "execution_count": null,
   "id": "34702d43",
   "metadata": {},
   "outputs": [],
   "source": []
  },
  {
   "cell_type": "code",
   "execution_count": null,
   "id": "f56b10f7",
   "metadata": {},
   "outputs": [],
   "source": []
  },
  {
   "cell_type": "code",
   "execution_count": null,
   "id": "39cd8e87",
   "metadata": {},
   "outputs": [],
   "source": []
  },
  {
   "cell_type": "code",
   "execution_count": null,
   "id": "2019951d",
   "metadata": {},
   "outputs": [],
   "source": []
  },
  {
   "cell_type": "code",
   "execution_count": null,
   "id": "c3a68fca",
   "metadata": {},
   "outputs": [],
   "source": []
  },
  {
   "cell_type": "code",
   "execution_count": null,
   "id": "67a6ceea",
   "metadata": {},
   "outputs": [],
   "source": []
  }
 ],
 "metadata": {
  "kernelspec": {
   "display_name": "Python 3",
   "language": "python",
   "name": "python3"
  },
  "language_info": {
   "codemirror_mode": {
    "name": "ipython",
    "version": 3
   },
   "file_extension": ".py",
   "mimetype": "text/x-python",
   "name": "python",
   "nbconvert_exporter": "python",
   "pygments_lexer": "ipython3",
   "version": "3.8.8"
  }
 },
 "nbformat": 4,
 "nbformat_minor": 5
}
